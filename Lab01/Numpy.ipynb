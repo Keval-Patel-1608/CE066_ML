{
  "nbformat": 4,
  "nbformat_minor": 0,
  "metadata": {
    "colab": {
      "name": "Numpy.ipynb",
      "provenance": [],
      "collapsed_sections": []
    },
    "kernelspec": {
      "name": "python3",
      "display_name": "Python 3"
    },
    "language_info": {
      "name": "python"
    }
  },
  "cells": [
    {
      "cell_type": "markdown",
      "source": [
        "1) Create a Numpy array of size 4 x 5."
      ],
      "metadata": {
        "id": "0upY-8CgJaPk"
      }
    },
    {
      "cell_type": "code",
      "execution_count": null,
      "metadata": {
        "colab": {
          "base_uri": "https://localhost:8080/"
        },
        "id": "WitH62rJYyCp",
        "outputId": "af134daf-2c6c-4cf8-ff0c-f52b7ffe08d6"
      },
      "outputs": [
        {
          "output_type": "stream",
          "name": "stdout",
          "text": [
            "[[ 1  2  3  4  5]\n",
            " [ 6  7  8  9 10]\n",
            " [11 12 13 14 15]\n",
            " [16 17 18 19 20]]\n"
          ]
        }
      ],
      "source": [
        "import numpy as np\n",
        "narray = np.array([[1,2,3,4,5],[6,7,8,9,10],[11,12,13,14,15],[16,17,18,19,20]])\n",
        "print(narray)"
      ]
    },
    {
      "cell_type": "markdown",
      "source": [
        "2) Randomly initialize the array."
      ],
      "metadata": {
        "id": "3gRUiJ0qandp"
      }
    },
    {
      "cell_type": "code",
      "source": [
        "matrix3x2 = np.random.randint(0,10,(3,2))\n",
        "print(matrix3x2)"
      ],
      "metadata": {
        "colab": {
          "base_uri": "https://localhost:8080/"
        },
        "id": "clpnfSmiasKZ",
        "outputId": "1612223f-5a61-4148-9d42-569e7346891d"
      },
      "execution_count": null,
      "outputs": [
        {
          "output_type": "stream",
          "name": "stdout",
          "text": [
            "[[1 4]\n",
            " [8 4]\n",
            " [8 4]]\n"
          ]
        }
      ]
    },
    {
      "cell_type": "markdown",
      "source": [
        "3) Get the Transpose of the Matrix that you created."
      ],
      "metadata": {
        "id": "2JlC7iotcNdj"
      }
    },
    {
      "cell_type": "code",
      "source": [
        "print('Original matrix 3 x 2')\n",
        "print(matrix3x2)\n",
        "print('Transposed matrix 2 x 3')\n",
        "print(matrix3x2.T)"
      ],
      "metadata": {
        "colab": {
          "base_uri": "https://localhost:8080/"
        },
        "id": "X7zswKMocNoa",
        "outputId": "a6e5e153-84ec-4301-b69b-eb457f359ba8"
      },
      "execution_count": null,
      "outputs": [
        {
          "output_type": "stream",
          "name": "stdout",
          "text": [
            "Original matrix 3 x 2\n",
            "[[1 4]\n",
            " [8 4]\n",
            " [8 4]]\n",
            "Transposed matrix 2 x 3\n",
            "[[1 8 8]\n",
            " [4 4 4]]\n"
          ]
        }
      ]
    },
    {
      "cell_type": "markdown",
      "source": [
        "Create a square matrix and find its determinant."
      ],
      "metadata": {
        "id": "1nVhXMNNhbzA"
      }
    },
    {
      "cell_type": "code",
      "source": [
        "mat = np.matrix([[1,2],[4,5]])\n",
        "print('Original matrix 2 x 2')\n",
        "print(mat)\n",
        "print('Determinant of matrix 2 x 2')\n",
        "print(np.linalg.det(mat))"
      ],
      "metadata": {
        "colab": {
          "base_uri": "https://localhost:8080/"
        },
        "id": "QNp0CFAfdZdY",
        "outputId": "5532c925-965f-44b0-cd99-24d58e5e3f19"
      },
      "execution_count": null,
      "outputs": [
        {
          "output_type": "stream",
          "name": "stdout",
          "text": [
            "Original matrix 2 x 2\n",
            "[[1 2]\n",
            " [4 5]]\n",
            "Determinant of matrix 2 x 2\n",
            "-2.9999999999999996\n"
          ]
        }
      ]
    },
    {
      "cell_type": "markdown",
      "source": [
        "4) Create another matrix of size 5 x 4 and randomly initialize it."
      ],
      "metadata": {
        "id": "oRyjgAeJfob5"
      }
    },
    {
      "cell_type": "code",
      "source": [
        "np.matrix(np.random.randint(0,10,(5,4)))"
      ],
      "metadata": {
        "colab": {
          "base_uri": "https://localhost:8080/"
        },
        "id": "FAxSGnvHfopp",
        "outputId": "b0f51871-bcbb-41fe-fea9-3b95163e6cd7"
      },
      "execution_count": null,
      "outputs": [
        {
          "output_type": "execute_result",
          "data": {
            "text/plain": [
              "matrix([[5, 0, 8, 6],\n",
              "        [0, 2, 4, 0],\n",
              "        [8, 8, 4, 0],\n",
              "        [4, 1, 1, 8],\n",
              "        [2, 3, 8, 5]])"
            ]
          },
          "metadata": {},
          "execution_count": 15
        }
      ]
    },
    {
      "cell_type": "markdown",
      "source": [
        "5) Perform Matrix multiplication."
      ],
      "metadata": {
        "id": "ve6tkFi8ietg"
      }
    },
    {
      "cell_type": "code",
      "source": [
        "mat1 = np.matrix(np.random.randint(0,10,(2,3)))\n",
        "mat2 = np.matrix(np.random.randint(0,10,(3,2)))\n",
        "result = mat1 * mat2\n",
        "print('Multiplied Matrix : \\n', result)\n",
        "\n"
      ],
      "metadata": {
        "colab": {
          "base_uri": "https://localhost:8080/"
        },
        "id": "9gHR5Yibie6Q",
        "outputId": "841b40e5-e6cc-4fb3-f8c2-09803a060dbb"
      },
      "execution_count": null,
      "outputs": [
        {
          "output_type": "stream",
          "name": "stdout",
          "text": [
            "Multiplied Matrix : \n",
            " [[24 72]\n",
            " [28 24]]\n"
          ]
        }
      ]
    },
    {
      "cell_type": "markdown",
      "source": [
        "6) Perform element wise matrix multiplication."
      ],
      "metadata": {
        "id": "jpO6hV70kQCA"
      }
    },
    {
      "cell_type": "code",
      "source": [
        "elemul = np.dot(mat1,mat2)\n",
        "print('Element wise Multiplied Matrix : \\n', elemul)"
      ],
      "metadata": {
        "colab": {
          "base_uri": "https://localhost:8080/"
        },
        "id": "JjVoRiPVkQae",
        "outputId": "af76c9b4-1f73-45af-93ea-e8c4bc32fec8"
      },
      "execution_count": null,
      "outputs": [
        {
          "output_type": "stream",
          "name": "stdout",
          "text": [
            "Element wise Multiplied Matrix : \n",
            " [[24 72]\n",
            " [28 24]]\n"
          ]
        }
      ]
    },
    {
      "cell_type": "markdown",
      "source": [
        "7) Find mean, median of the numpy array created."
      ],
      "metadata": {
        "id": "sAmcc_VmkuAp"
      }
    },
    {
      "cell_type": "code",
      "source": [
        "mean = np.mean(narray)\n",
        "print('Matrix mean: ')\n",
        "print(mean)\n",
        "\n",
        "median = np.median(narray)\n",
        "print('Matrix median: ')\n",
        "print(median)"
      ],
      "metadata": {
        "colab": {
          "base_uri": "https://localhost:8080/"
        },
        "id": "W0Oj6rnqkuLn",
        "outputId": "6915faa7-9085-449c-9cb6-abf1bd2c5ccb"
      },
      "execution_count": null,
      "outputs": [
        {
          "output_type": "stream",
          "name": "stdout",
          "text": [
            "Matrix mean: \n",
            "10.5\n",
            "Matrix median: \n",
            "10.5\n"
          ]
        }
      ]
    },
    {
      "cell_type": "markdown",
      "source": [
        "8) Obtain each row in the second column of the first array."
      ],
      "metadata": {
        "id": "18T7C0JTmJUA"
      }
    },
    {
      "cell_type": "code",
      "source": [
        "print(narray)\n",
        "print('Each row in the second column: \\n', narray[0:,1])"
      ],
      "metadata": {
        "colab": {
          "base_uri": "https://localhost:8080/"
        },
        "id": "McMR18EJmJg3",
        "outputId": "89aba021-4b01-421e-8b41-3349dd5541a2"
      },
      "execution_count": null,
      "outputs": [
        {
          "output_type": "stream",
          "name": "stdout",
          "text": [
            "[[ 1  2  3  4  5]\n",
            " [ 6  7  8  9 10]\n",
            " [11 12 13 14 15]\n",
            " [16 17 18 19 20]]\n",
            "Each row in the second column: \n",
            " [ 2  7 12 17]\n"
          ]
        }
      ]
    },
    {
      "cell_type": "markdown",
      "source": [
        "9) Convert Numeric entries(columns) of Iris.csv to Mean Centered Version"
      ],
      "metadata": {
        "id": "rxFcnTldngIV"
      }
    },
    {
      "cell_type": "code",
      "source": [
        "import pandas as pd\n",
        "import numpy as np\n",
        "data = pd.read_csv('Iris.csv')\n",
        "arr1=np.array(data.head(5))\n",
        "mat5=np.array([arr1[:,0],arr1[:,1],arr1[:,2],arr1[:,3]])\n",
        "res=mat5-np.mean(mat5,axis=0)\n",
        "print(res)"
      ],
      "metadata": {
        "id": "bLM705CRnfLP",
        "colab": {
          "base_uri": "https://localhost:8080/"
        },
        "outputId": "29a0dc47-515c-4789-9a99-5e45043b32f4"
      },
      "execution_count": 10,
      "outputs": [
        {
          "output_type": "stream",
          "name": "stdout",
          "text": [
            "[[-1.75 -0.8250000000000002 -0.050000000000000266 0.7000000000000002 1.25]\n",
            " [2.3499999999999996 2.075 1.65 1.2999999999999998 1.25]\n",
            " [0.75 0.17499999999999982 0.1499999999999999 -0.19999999999999973\n",
            "  -0.1499999999999999]\n",
            " [-1.35 -1.4250000000000003 -1.7500000000000002 -1.7999999999999998 -2.35]]\n"
          ]
        }
      ]
    },
    {
      "cell_type": "markdown",
      "source": [
        "10) Study about numpy array attributes and implement it on the first matrix."
      ],
      "metadata": {
        "id": "IcXwW06Nno5G"
      }
    },
    {
      "cell_type": "code",
      "source": [
        "mat5=np.matrix([[2, 1], [2, -2], [3, -3]])\n",
        "print(np.sum(mat5,axis=0))"
      ],
      "metadata": {
        "id": "Bh_dJeyPnpJN",
        "colab": {
          "base_uri": "https://localhost:8080/"
        },
        "outputId": "27ec0e9d-ea42-4721-e103-3b1fed614b95"
      },
      "execution_count": 11,
      "outputs": [
        {
          "output_type": "stream",
          "name": "stdout",
          "text": [
            "[[ 7 -4]]\n"
          ]
        }
      ]
    },
    {
      "cell_type": "markdown",
      "source": [
        "Natural Language Toolkit:"
      ],
      "metadata": {
        "id": "vfqvZx9hoCTa"
      }
    },
    {
      "cell_type": "code",
      "source": [
        "import numpy as np\n",
        "import pandas as pd\n",
        "import matplotlib.pyplot as plt\n",
        "\n",
        "data = pd.read_csv('Iris.csv')\n",
        "str1=[\"1\",\"2\",\"3\",\"4\",\"5\"]\n",
        "X=data['SepalLengthCm']\n",
        "Y=data['SepalWidthCm']\n",
        "plt.scatter(X,Y,s=10,color=\"grey\")\n",
        "plt.xlabel(\"X\")\n",
        "plt.ylabel(\"Y\")\n",
        "for i, label in enumerate(str1):\n",
        "    plt.annotate(label, (X[i], Y[i]))\n",
        "plt.show()"
      ],
      "metadata": {
        "colab": {
          "base_uri": "https://localhost:8080/",
          "height": 282
        },
        "id": "P1LrnN2zNtVe",
        "outputId": "f60cb03c-0a03-4aae-ea79-edd4d44a0381"
      },
      "execution_count": null,
      "outputs": [
        {
          "output_type": "display_data",
          "data": {
            "image/png": "[encoded data removed]",
            "text/plain": [
              "<Figure size 432x288 with 1 Axes>"
            ]
          },
          "metadata": {
            "needs_background": "light"
          }
        }
      ]
    },
    {
      "cell_type": "code",
      "source": [
        "import numpy as np\n",
        "import pandas as pd\n",
        "import matplotlib.pyplot as plt\n",
        "plt.hist(data['SepalLengthCm'],bins=10)\n",
        "plt.xlabel('Value')\n",
        "plt.ylabel('Frequency')"
      ],
      "metadata": {
        "colab": {
          "base_uri": "https://localhost:8080/",
          "height": 296
        },
        "id": "jlb9tXchNttl",
        "outputId": "7d32864a-b239-484b-804b-148c53efec61"
      },
      "execution_count": 5,
      "outputs": [
        {
          "output_type": "execute_result",
          "data": {
            "text/plain": [
              "Text(0, 0.5, 'Frequency')"
            ]
          },
          "metadata": {},
          "execution_count": 5
        },
        {
          "output_type": "display_data",
          "data": {
            "image/png": "[encoded data removed]",
            "text/plain": [
              "<Figure size 432x288 with 1 Axes>"
            ]
          },
          "metadata": {
            "needs_background": "light"
          }
        }
      ]
    },
    {
      "cell_type": "code",
      "source": [
        "plt.bar(data['Species'],height=1)\n",
        "plt.show()"
      ],
      "metadata": {
        "id": "vWGgorhON6h9",
        "colab": {
          "base_uri": "https://localhost:8080/",
          "height": 265
        },
        "outputId": "27379361-58b4-4e58-b4da-3b257cd162c6"
      },
      "execution_count": 6,
      "outputs": [
        {
          "output_type": "display_data",
          "data": {
            "image/png": "[encoded data removed]",
            "text/plain": [
              "<Figure size 432x288 with 1 Axes>"
            ]
          },
          "metadata": {
            "needs_background": "light"
          }
        }
      ]
    },
    {
      "cell_type": "code",
      "source": [
        "print(\"Null Values:\\n\",data.isnull().sum())"
      ],
      "metadata": {
        "id": "0H9pG_QHN_FD",
        "colab": {
          "base_uri": "https://localhost:8080/"
        },
        "outputId": "cf219680-de4d-43bc-bae4-e2b310f8a176"
      },
      "execution_count": 7,
      "outputs": [
        {
          "output_type": "stream",
          "name": "stdout",
          "text": [
            "Null Values:\n",
            " Id               0\n",
            "SepalLengthCm    0\n",
            "SepalWidthCm     0\n",
            "PetalLengthCm    0\n",
            "PetalWidthCm     0\n",
            "Species          0\n",
            "dtype: int64\n"
          ]
        }
      ]
    },
    {
      "cell_type": "code",
      "source": [
        "print(data.loc[1:5,'SepalLengthCm'])"
      ],
      "metadata": {
        "id": "3uvfvNzXOB_w",
        "colab": {
          "base_uri": "https://localhost:8080/"
        },
        "outputId": "cf7bf013-07c2-48e3-bcf4-8d265f5d7eba"
      },
      "execution_count": 8,
      "outputs": [
        {
          "output_type": "stream",
          "name": "stdout",
          "text": [
            "1    4.9\n",
            "2    4.7\n",
            "3    4.6\n",
            "4    5.0\n",
            "5    5.4\n",
            "Name: SepalLengthCm, dtype: float64\n"
          ]
        }
      ]
    },
    {
      "cell_type": "code",
      "source": [
        "print(data.loc[5:])"
      ],
      "metadata": {
        "id": "1bWTJJkbOCDH",
        "colab": {
          "base_uri": "https://localhost:8080/"
        },
        "outputId": "c4fc9473-38e0-4f55-baef-362d2433f181"
      },
      "execution_count": 9,
      "outputs": [
        {
          "output_type": "stream",
          "name": "stdout",
          "text": [
            "      Id  SepalLengthCm  ...  PetalWidthCm         Species\n",
            "5      6            5.4  ...           0.4     Iris-setosa\n",
            "6      7            4.6  ...           0.3     Iris-setosa\n",
            "7      8            5.0  ...           0.2     Iris-setosa\n",
            "8      9            4.4  ...           0.2     Iris-setosa\n",
            "9     10            4.9  ...           0.1     Iris-setosa\n",
            "..   ...            ...  ...           ...             ...\n",
            "145  146            6.7  ...           2.3  Iris-virginica\n",
            "146  147            6.3  ...           1.9  Iris-virginica\n",
            "147  148            6.5  ...           2.0  Iris-virginica\n",
            "148  149            6.2  ...           2.3  Iris-virginica\n",
            "149  150            5.9  ...           1.8  Iris-virginica\n",
            "\n",
            "[145 rows x 6 columns]\n"
          ]
        }
      ]
    },
    {
      "cell_type": "markdown",
      "source": [
        ""
      ],
      "metadata": {
        "id": "DoMVYm1ooI3e"
      }
    },
    {
      "cell_type": "code",
      "source": [
        "# Declare a figure with a custom size\n",
        "fig = plt.figure(figsize=(5, 5))\n",
        "# labels for the classes\n",
        "labels = 'Iris-setosa', 'Iris-versicolor','Iris-verginia'\n",
        "\n",
        "# Sizes for each slide\n",
        "sizes = [33.33, 33.33, 33.33]\n",
        "# Declare pie chart, where the slices will be ordered and plotted counter-clockwise:\n",
        "plt.pie(sizes, labels=labels, autopct='%.2f%%',\n",
        "shadow=True, startangle=90)\n",
        "\n",
        "# Equal aspect ratio ensures that pie is drawn as a circle.\n",
        "plt.axis('equal')\n",
        "\n",
        "# Display the chart\n",
        "plt.show()"
      ],
      "metadata": {
        "colab": {
          "base_uri": "https://localhost:8080/",
          "height": 311
        },
        "id": "BY-AKmK2oJDi",
        "outputId": "b632dab9-62a2-48ae-b4c5-f7c04384c7f9"
      },
      "execution_count": 13,
      "outputs": [
        {
          "output_type": "display_data",
          "data": {
            "image/png": "[encoded data removed]",
            "text/plain": [
              "<Figure size 360x360 with 1 Axes>"
            ]
          },
          "metadata": {}
        }
      ]
    }
  ]
}